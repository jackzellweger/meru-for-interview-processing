{
 "cells": [
  {
   "cell_type": "code",
   "execution_count": 42,
   "id": "a804713b",
   "metadata": {},
   "outputs": [],
   "source": [
    "import requests\n",
    "from urllib.parse import urlencode\n",
    "import sys\n",
    "import json"
   ]
  },
  {
   "cell_type": "code",
   "execution_count": 43,
   "id": "b97fde4d",
   "metadata": {},
   "outputs": [],
   "source": [
    "apiKey = ''\n",
    "interviews = ''"
   ]
  },
  {
   "cell_type": "code",
   "execution_count": 44,
   "id": "cf774aa6",
   "metadata": {
    "scrolled": false
   },
   "outputs": [],
   "source": [
    "def new_index(index_name: str, file_url: str, key: str):\n",
    "    # Headers\n",
    "    headers = {\n",
    "        'Content-Type': 'application/json',\n",
    "        'x-api-key': key\n",
    "    }\n",
    "\n",
    "    # Data\n",
    "    data = {\n",
    "        'files': file_url,\n",
    "        'index_name': 'test_index'\n",
    "    }\n",
    "\n",
    "    # API URL\n",
    "    API_URL = 'https://api.usemeru.com/refine/v4/files'\n",
    "\n",
    "    # Send the request\n",
    "    response = requests.post(API_URL, headers=headers, json=data)\n",
    "\n",
    "    #Output the response\n",
    "    response = response.json()\n",
    "    return response\n",
    "    #parsedResponse = json.loads(response)\n",
    "\n",
    "def delete_index(indexToDeleteID: str, key: str):\n",
    "    headers = {\n",
    "        'Content-Type': 'application/json',\n",
    "        'x-api-key': key\n",
    "    }\n",
    "    \n",
    "    # Data\n",
    "    data = {\n",
    "        \"err_code\": 0,\n",
    "        \"id\": indexToDeleteID\n",
    "    }\n",
    "    \n",
    "    # API URL\n",
    "    API_URL = 'https://api.usemeru.com/refine/v4/files/' + indexToDeleteID\n",
    "    \n",
    "    # Send the request\n",
    "    response = requests.delete(API_URL, headers=headers, json=data)\n",
    "\n",
    "    #Output the response\n",
    "    response = response.json()\n",
    "    return response\n",
    "\n",
    "def query_index(query: str, index_id: str, key: str):\n",
    "    # Headers\n",
    "    headers = {\n",
    "        'Content-Type': 'application/json',\n",
    "        'x-api-key': key\n",
    "    }\n",
    "\n",
    "    # Data\n",
    "    data = {\n",
    "        \"model_id\": \"context-text-davinci-003\",\n",
    "        \"inputs\": {\n",
    "          \"file_id\": index_id,\n",
    "          \"prompt\": query,\n",
    "          \"temperature\": 0.5,\n",
    "          \"max_tokens\": 2048\n",
    "        }\n",
    "    }\n",
    "\n",
    "    # API URL\n",
    "    API_URL = 'https://api.usemeru.com/refine/v4/predict'\n",
    "\n",
    "    # Send the request\n",
    "    response = requests.post(API_URL, headers=headers, json=data)\n",
    "\n",
    "    #Output the response\n",
    "    response = response.json()\n",
    "    return response"
   ]
  },
  {
   "cell_type": "code",
   "execution_count": null,
   "id": "ef9a59ab",
   "metadata": {},
   "outputs": [],
   "source": []
  }
 ],
 "metadata": {
  "kernelspec": {
   "display_name": "Python 3 (ipykernel)",
   "language": "python",
   "name": "python3"
  },
  "language_info": {
   "codemirror_mode": {
    "name": "ipython",
    "version": 3
   },
   "file_extension": ".py",
   "mimetype": "text/x-python",
   "name": "python",
   "nbconvert_exporter": "python",
   "pygments_lexer": "ipython3",
   "version": "3.9.16"
  }
 },
 "nbformat": 4,
 "nbformat_minor": 5
}
